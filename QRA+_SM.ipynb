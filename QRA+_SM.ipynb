{
  "cells": [
    {
      "cell_type": "markdown",
      "metadata": {
        "id": "view-in-github",
        "colab_type": "text"
      },
      "source": [
        "<a href=\"https://colab.research.google.com/github/mille-s/ReproHum_072904_DCU25/blob/main/QRA%2B_SM.ipynb\" target=\"_parent\"><img src=\"https://colab.research.google.com/assets/colab-badge.svg\" alt=\"Open In Colab\"/></a>"
      ]
    },
    {
      "cell_type": "markdown",
      "metadata": {
        "id": "3WBv03VeRhBv"
      },
      "source": [
        "# TODO - Introduction"
      ]
    },
    {
      "cell_type": "code",
      "execution_count": 1,
      "metadata": {
        "colab": {
          "base_uri": "https://localhost:8080/"
        },
        "id": "CmEzda-ohTzE",
        "outputId": "aec79028-47c4-41e9-d037-d9df37ecf06f",
        "cellView": "form"
      },
      "outputs": [
        {
          "output_type": "stream",
          "name": "stdout",
          "text": [
            "Mounted at /content/drive\n"
          ]
        }
      ],
      "source": [
        "#@title Setup repo\n",
        "import os\n",
        "import sys\n",
        "import pandas as pd\n",
        "from google.colab import drive\n",
        "\n",
        "# Mount Google Drive.\n",
        "drive.mount('/content/drive', force_remount=True)\n",
        "\n",
        "# Make sure the files folder exists.\n",
        "ROOT_DIR = \"/content/drive/Shareddrives/human_evaluation_tutorial/code/qra\"\n",
        "!mkdir -p $ROOT_DIR\n",
        "\n",
        "DATA_DIR = f\"{ROOT_DIR}/data\"\n",
        "!mkdir -p $DATA_DIR\n",
        "\n",
        "RESULTS_DIR = f\"{DATA_DIR}/reproduction_study_results\"\n",
        "!mkdir -p $RESULTS_DIR\n",
        "\n",
        "# To load the external python files\n",
        "SRC_DIR = f\"{ROOT_DIR}/src\"\n",
        "!mkdir -p $SRC_DIR\n",
        "sys.path.append(SRC_DIR)\n",
        "\n",
        "# Load the QRA functions\n",
        "# TODO - format QRAUtils to have Google style and comments.\n",
        "from qra_utils import QRAUtils"
      ]
    },
    {
      "cell_type": "code",
      "execution_count": 11,
      "metadata": {
        "id": "-kzB3JkgkeOg",
        "colab": {
          "base_uri": "https://localhost:8080/"
        },
        "outputId": "4d2ccde1-94e0-4af6-b5a2-aaebf087fb38",
        "cellView": "form"
      },
      "outputs": [
        {
          "output_type": "stream",
          "name": "stdout",
          "text": [
            "Selected start of instrument scale: 1.\n",
            "Type I Results:\n",
            "       Key  System    Criterion  Original  Reproduction 1  CV_STAR_2_O_A\n",
            "0  0729-04  MemSum  Overall_agg      1.38            1.27      33.744794\n",
            "1  0729-04  NeuSum  Overall_agg      1.57            1.33      53.173616\n",
            "2  0729-04  MemSum      Overall      1.38            1.47      21.113053\n",
            "3  0729-04  NeuSum      Overall      1.57            1.53       7.250948\n",
            "\n",
            "Type II Results:\n",
            "     Criterion  PEARSON_O_A  SPEARMAN_O_A\n",
            "0      Overall          1.0           1.0\n",
            "1  Overall_agg          1.0           1.0\n",
            "\n",
            "Type IV Results:\n",
            "     Criterion   Study A         Study B  Numerator  Denominator\n",
            "0      Overall  Original  Reproduction 1          1            1\n",
            "1  Overall_agg  Original  Reproduction 1          1            1\n"
          ]
        }
      ],
      "source": [
        "#@title Create a dataframe for each type of QRA+ results.\n",
        "# This function takes a glob path as input.  It then loads each of the file.\n",
        "# The expectation is that the files are all identical.\n",
        "# This is so that you can manually enter data into multiple spreadsheets, then\n",
        "# if you made no mistakes, the files are likely to be identical and this function\n",
        "# will then load a single copy of it.\n",
        "input_df = QRAUtils.load_dataframe_from_parallel_sources(\n",
        "    # f\"{RESULTS_DIR}/p_and_l_2021*.csv\"\n",
        "    '/content/gu-etal-2022_*.csv'\n",
        ")\n",
        "\n",
        "# print(f'DF: {input_df}')\n",
        "\n",
        "# We need to specify these in order, as the first study is always considered\n",
        "# to be the original, regardless of what we name it.\n",
        "STUDIES = [\n",
        "    'Original',       # https://aclanthology.org/2021.tacl-1.31\n",
        "    'Reproduction 1'  # https://aclanthology.org/2023.humeval-1.7\n",
        "]\n",
        "\n",
        "# This will affect the order that criteria are shown in our dataframes\n",
        "# - regardless of which is found first in the input data.\n",
        "QUALITY_CRITERIA = [\n",
        "    'Overall', 'Overall_agg'\n",
        "]\n",
        "\n",
        "# This will affect the order that systems are shown in our dataframes\n",
        "# - regardless of which is found first in the input data.\n",
        "SYSTEMS = [\n",
        "    'MemSum',\n",
        "    'NeuSum'\n",
        "]\n",
        "\n",
        "# CV* Requires that scales start at zero, therefore this adjustment needs to be set.\n",
        "# - best-worst scaling goes from -100 to 100.\n",
        "INSTRUMENT_SCALE_STARTS_AT  = 1\n",
        "\n",
        "# This loads the data, with the results from each study in their own columns.\n",
        "base_df = QRAUtils.get_base_df(\n",
        "    input_df,\n",
        "    STUDIES\n",
        ")\n",
        "\n",
        "# Type I\n",
        "type_i_df = QRAUtils.get_type_i_df(\n",
        "    base_df,\n",
        "    STUDIES,\n",
        "    INSTRUMENT_SCALE_STARTS_AT\n",
        ")\n",
        "\n",
        "# Type II\n",
        "type_ii_df = QRAUtils.get_type_ii_df(\n",
        "    base_df,\n",
        "    STUDIES,\n",
        "    QUALITY_CRITERIA\n",
        ")\n",
        "\n",
        "# Type III - We do not have responses from the original study with which to calculate this\n",
        "# - It is calculated using Krippendorff's Alpha, an inter-study agreement.\n",
        "# - Note that some python implementations for Krippendorff's alpha are wrong.\n",
        "\n",
        "# TODO - implement this anyway with dummy responses.\n",
        "\n",
        "# Type IV\n",
        "type_iv_df = QRAUtils.get_type_iv_df(\n",
        "    input_df,\n",
        "    STUDIES,\n",
        "    QUALITY_CRITERIA\n",
        ")\n",
        "\n",
        "print(f'Selected start of instrument scale: {INSTRUMENT_SCALE_STARTS_AT}.')\n",
        "print(\"Type I Results:\")\n",
        "print(type_i_df)\n",
        "\n",
        "print(\"\\nType II Results:\")\n",
        "print(type_ii_df)\n",
        "\n",
        "print(\"\\nType IV Results:\")\n",
        "print(type_iv_df)"
      ]
    }
  ],
  "metadata": {
    "colab": {
      "provenance": [],
      "include_colab_link": true
    },
    "kernelspec": {
      "display_name": "Python 3",
      "name": "python3"
    },
    "language_info": {
      "name": "python"
    }
  },
  "nbformat": 4,
  "nbformat_minor": 0
}